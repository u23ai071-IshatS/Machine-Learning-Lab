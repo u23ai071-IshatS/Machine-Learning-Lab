{
 "cells": [
  {
   "cell_type": "code",
   "execution_count": 39,
   "id": "a4d59cb6",
   "metadata": {},
   "outputs": [
    {
     "name": "stdout",
     "output_type": "stream",
     "text": [
      "      TV  Radio  Newspaper  Sales\n",
      "0  230.1   37.8       69.2   22.1\n",
      "1   44.5   39.3       45.1   10.4\n",
      "2   17.2   45.9       69.3   12.0\n",
      "3  151.5   41.3       58.5   16.5\n",
      "4  180.8   10.8       58.4   17.9\n"
     ]
    }
   ],
   "source": [
    "import pandas as pd\n",
    "import numpy as np\n",
    "\n",
    "df = pd.read_csv(\"../Data/advertising.csv\")\n",
    "print(df.head())"
   ]
  },
  {
   "cell_type": "markdown",
   "id": "6490013c",
   "metadata": {},
   "source": [
    "# Handling Missing Values"
   ]
  },
  {
   "cell_type": "code",
   "execution_count": 40,
   "id": "540a8ad3",
   "metadata": {},
   "outputs": [],
   "source": [
    "df = df.fillna(0)"
   ]
  },
  {
   "cell_type": "markdown",
   "id": "bbac42d8",
   "metadata": {},
   "source": [
    "# Feature Selection and Target Variable"
   ]
  },
  {
   "cell_type": "code",
   "execution_count": 41,
   "id": "75144c5c",
   "metadata": {},
   "outputs": [],
   "source": [
    "x = df[['TV', 'Radio', 'Newspaper']].values\n",
    "y = df['Sales'].values"
   ]
  },
  {
   "cell_type": "markdown",
   "id": "592dd444",
   "metadata": {},
   "source": [
    "# Min-Max Scaling"
   ]
  },
  {
   "cell_type": "code",
   "execution_count": 42,
   "id": "f24ec931",
   "metadata": {},
   "outputs": [],
   "source": [
    "x_min = x.min(axis=0)\n",
    "x_max = x.max(axis=0)\n",
    "x_minmax = (x - x_min) / (x_max - x_min)"
   ]
  },
  {
   "cell_type": "code",
   "execution_count": 43,
   "id": "b9b93ba0",
   "metadata": {},
   "outputs": [],
   "source": [
    "x_minmax = np.c_[np.ones(x_minmax.shape[0]), x_minmax]"
   ]
  },
  {
   "cell_type": "markdown",
   "id": "333a7555",
   "metadata": {},
   "source": [
    "# Standard Scaling"
   ]
  },
  {
   "cell_type": "code",
   "execution_count": 44,
   "id": "0c88421c",
   "metadata": {},
   "outputs": [],
   "source": [
    "x_mean = x.mean(axis=0)\n",
    "x_std = x.std(axis=0)\n",
    "x_standard = (x - x_mean) / x_std"
   ]
  },
  {
   "cell_type": "code",
   "execution_count": 45,
   "id": "4b755fd1",
   "metadata": {},
   "outputs": [],
   "source": [
    "x_standard = np.c_[np.ones(x_standard.shape[0]), x_standard]"
   ]
  },
  {
   "cell_type": "markdown",
   "id": "2f37f27f",
   "metadata": {},
   "source": [
    "# Outlier Removal using Z-Score\n",
    "We use the z-score method to remove outliers from our dataset:\n",
    "- Calculate z-scores for each feature\n",
    "- Remove data points where any feature has |z-score| > 3\n",
    "- This assumes the data follows a normal distribution\n",
    "- Points with z-score > 3 are considered outliers as they lie beyond 3 standard deviations"
   ]
  },
  {
   "cell_type": "code",
   "execution_count": 46,
   "id": "f5c978e7",
   "metadata": {},
   "outputs": [
    {
     "name": "stdout",
     "output_type": "stream",
     "text": [
      "Z-scores shape: (200, 3)\n",
      "Number of outliers removed: 2\n",
      "Cleaned x shape: (198, 4)\n",
      "Cleaned y shape: (198,)\n"
     ]
    }
   ],
   "source": [
    "z_scores = np.abs((x - x_mean) / x_std)\n",
    "print(f\"Z-scores shape: {z_scores.shape}\")\n",
    "\n",
    "non_outliers_mask = (z_scores < 3).all(axis=1)\n",
    "print(f\"Number of outliers removed: {np.sum(~non_outliers_mask)}\")\n",
    "\n",
    "x_cleaned_minmax = x_minmax[non_outliers_mask]\n",
    "x_cleaned_standard = x_standard[non_outliers_mask]\n",
    "y_cleaned = y[non_outliers_mask]\n",
    "print(f\"Cleaned x shape: {x_cleaned_minmax.shape}\")\n",
    "print(f\"Cleaned y shape: {y_cleaned.shape}\")"
   ]
  },
  {
   "cell_type": "markdown",
   "id": "18106028",
   "metadata": {},
   "source": [
    "# Model Training and Comparison\n",
    "We use batch gradient descent to train two linear regression models:\n",
    "1. One with Min-Max scaled features\n",
    "2. One with Standardized features\n",
    "\n",
    "The comparison of Mean Squared Error (MSE) between the two models will help us understand which scaling technique works better for this specific dataset."
   ]
  },
  {
   "cell_type": "code",
   "execution_count": 47,
   "id": "36b19bf0",
   "metadata": {},
   "outputs": [
    {
     "name": "stdout",
     "output_type": "stream",
     "text": [
      "Weights after Min-Max Scaling: [ 4.63742403 16.12884886  5.30067876  0.10687065]\n",
      "Weights after Standard Scaling: [15.13422588  4.67115626  1.58338952  0.01875092]\n",
      "MSE after Min-Max Scaling: 2.7289607\n",
      "MSE after Standard Scaling: 2.7289585\n"
     ]
    }
   ],
   "source": [
    "def batch_gradient_descent(x, y, lr=0.1, epochs=1000):\n",
    "    weights = np.zeros(x.shape[1])\n",
    "    for epoch in range(epochs):\n",
    "        predictions = x @ weights\n",
    "        errors = predictions - y\n",
    "        gradient = (2 / len(y)) * x.T @ errors\n",
    "        weights -= lr * gradient\n",
    "        \n",
    "    return weights\n",
    "\n",
    "# Train the model\n",
    "weights1 = batch_gradient_descent(x_cleaned_minmax, y_cleaned)\n",
    "weights2 = batch_gradient_descent(x_cleaned_standard, y_cleaned)\n",
    "\n",
    "# Predict and calculate MSE\n",
    "y_pred_minmax = x_cleaned_minmax @ weights1\n",
    "y_pred_standard = x_cleaned_standard @ weights2\n",
    "mse_minmax = np.mean((y_cleaned - y_pred_minmax) ** 2)\n",
    "mse_standard = np.mean((y_cleaned - y_pred_standard) ** 2)\n",
    "# Output\n",
    "print(\"Weights after Min-Max Scaling:\", weights1)\n",
    "print(\"Weights after Standard Scaling:\", weights2)\n",
    "print(f\"MSE after Min-Max Scaling: {mse_minmax:.7f}\")\n",
    "print(f\"MSE after Standard Scaling: {mse_standard:.7f}\")"
   ]
  }
 ],
 "metadata": {
  "kernelspec": {
   "display_name": "Python 3",
   "language": "python",
   "name": "python3"
  },
  "language_info": {
   "codemirror_mode": {
    "name": "ipython",
    "version": 3
   },
   "file_extension": ".py",
   "mimetype": "text/x-python",
   "name": "python",
   "nbconvert_exporter": "python",
   "pygments_lexer": "ipython3",
   "version": "3.12.10"
  }
 },
 "nbformat": 4,
 "nbformat_minor": 5
}
