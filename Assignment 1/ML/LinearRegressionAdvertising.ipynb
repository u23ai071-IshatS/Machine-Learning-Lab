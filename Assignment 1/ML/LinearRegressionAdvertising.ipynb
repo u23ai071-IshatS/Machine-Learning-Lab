{
 "cells": [
  {
   "cell_type": "code",
   "execution_count": 1,
   "id": "d558fdcc",
   "metadata": {},
   "outputs": [
    {
     "name": "stdout",
     "output_type": "stream",
     "text": [
      "      TV  Radio  Newspaper  Sales\n",
      "0  230.1   37.8       69.2   22.1\n",
      "1   44.5   39.3       45.1   10.4\n",
      "2   17.2   45.9       69.3   12.0\n",
      "3  151.5   41.3       58.5   16.5\n",
      "4  180.8   10.8       58.4   17.9\n"
     ]
    }
   ],
   "source": [
    "import pandas as pd\n",
    "\n",
    "df = pd.read_csv(\"../Data/advertising.csv\")\n",
    "print(df.head())"
   ]
  },
  {
   "cell_type": "code",
   "execution_count": 2,
   "id": "c350d746",
   "metadata": {},
   "outputs": [
    {
     "data": {
      "text/plain": [
       "((200, 3), (200,))"
      ]
     },
     "execution_count": 2,
     "metadata": {},
     "output_type": "execute_result"
    }
   ],
   "source": [
    "import numpy as np\n",
    "\n",
    "x = df[['TV', 'Radio', 'Newspaper']].values\n",
    "y = df['Sales'].values\n",
    "\n",
    "x.shape, y.shape"
   ]
  },
  {
   "cell_type": "code",
   "execution_count": 3,
   "id": "1d8129b2",
   "metadata": {},
   "outputs": [],
   "source": [
    "# Scale features\n",
    "x = (x - x.mean(axis=0)) / x.std(axis=0)\n",
    "\n",
    "# Scale target variable\n",
    "y = (y - y.mean()) / y.std()\n",
    "\n",
    "n_samples, n_features = x.shape\n",
    "x_bias = np.c_[np.ones((n_samples, 1)), x]\n",
    "\n",
    "weights = np.zeros(x_bias.shape[1])"
   ]
  },
  {
   "cell_type": "code",
   "execution_count": 4,
   "id": "c14be5fb",
   "metadata": {},
   "outputs": [],
   "source": [
    "epochs = 100  # Increasing epochs for better convergence\n",
    "learning_rate = 0.01   # Increasing learning rate"
   ]
  },
  {
   "cell_type": "markdown",
   "id": "086915cc",
   "metadata": {},
   "source": [
    "Batch"
   ]
  },
  {
   "cell_type": "code",
   "execution_count": 5,
   "id": "7df22704",
   "metadata": {},
   "outputs": [],
   "source": [
    "def batch_gradient_descent(x, y, lr, epochs):\n",
    "    weights = np.zeros(x.shape[1])\n",
    "    for epoch in range(epochs):\n",
    "        predictions = x @ weights\n",
    "        error = predictions - y\n",
    "        gradient = (2 / len(y)) * x.T @ error\n",
    "        weights -= lr * gradient\n",
    "\n",
    "        if (epoch + 1) % 10 == 0 or epoch == 0:\n",
    "            mse = np.mean(error ** 2)\n",
    "            print(f\"[Batch] Epoch {epoch+1}: MSE = {mse:.4f}\")\n",
    "    return weights"
   ]
  },
  {
   "cell_type": "markdown",
   "id": "fb1b21a9",
   "metadata": {},
   "source": [
    "Online"
   ]
  },
  {
   "cell_type": "code",
   "execution_count": 6,
   "id": "be43625b",
   "metadata": {},
   "outputs": [],
   "source": [
    "def stochastic_gradient_descent(x, y, lr, epochs):\n",
    "    weights = np.zeros(x.shape[1])\n",
    "    for epoch in range(epochs):\n",
    "        for i in range(len(y)):\n",
    "            xi = x[i]\n",
    "            yi = y[i]\n",
    "            prediction = np.dot(xi, weights)\n",
    "            error = prediction - yi\n",
    "            gradient = 2 * error * xi\n",
    "            weights -= lr * gradient\n",
    "\n",
    "        if (epoch + 1) % 10 == 0 or epoch == 0:\n",
    "            predictions = x @ weights\n",
    "            mse = np.mean((predictions - y) ** 2)\n",
    "            print(f\"[SGD] Epoch {epoch+1}: MSE = {mse:.4f}\")\n",
    "    return weights"
   ]
  },
  {
   "cell_type": "markdown",
   "id": "81a7d3c1",
   "metadata": {},
   "source": [
    "Mini-batch"
   ]
  },
  {
   "cell_type": "code",
   "execution_count": 7,
   "id": "73755d73",
   "metadata": {},
   "outputs": [],
   "source": [
    "def mini_batch_gradient_descent(x, y, lr, epochs, batch_size=16,):\n",
    "    weights = np.zeros(x.shape[1])\n",
    "    n = len(y)\n",
    "\n",
    "    for epoch in range(epochs):\n",
    "        indices = np.arange(n)\n",
    "        np.random.shuffle(indices)\n",
    "        x_shuffled = x[indices]\n",
    "        y_shuffled = y[indices]\n",
    "\n",
    "        for start in range(0, n, batch_size):\n",
    "            end = start + batch_size\n",
    "            xb = x_shuffled[start:end]\n",
    "            yb = y_shuffled[start:end]\n",
    "            predictions = xb @ weights\n",
    "            error = predictions - yb\n",
    "            gradient = (2 / len(yb)) * xb.T @ error\n",
    "            weights -= lr * gradient\n",
    "\n",
    "        if (epoch + 1) % 10 == 0 or epoch == 0:\n",
    "            mse = np.mean((x @ weights - y) ** 2)\n",
    "            print(f\"[Mini-Batch] Epoch {epoch+1}: MSE = {mse:.4f}\")\n",
    "    return weights"
   ]
  },
  {
   "cell_type": "code",
   "execution_count": 8,
   "id": "24a2ac5a",
   "metadata": {},
   "outputs": [
    {
     "name": "stdout",
     "output_type": "stream",
     "text": [
      "\n",
      "--- Running Batch Gradient Descent ---\n",
      "[Batch] Epoch 1: MSE = 1.0000\n",
      "[Batch] Epoch 10: MSE = 0.7118\n",
      "[Batch] Epoch 20: MSE = 0.5000\n",
      "[Batch] Epoch 30: MSE = 0.3626\n",
      "[Batch] Epoch 40: MSE = 0.2729\n",
      "[Batch] Epoch 50: MSE = 0.2140\n",
      "[Batch] Epoch 60: MSE = 0.1753\n",
      "[Batch] Epoch 70: MSE = 0.1496\n",
      "[Batch] Epoch 80: MSE = 0.1325\n",
      "[Batch] Epoch 90: MSE = 0.1211\n",
      "[Batch] Epoch 100: MSE = 0.1135\n",
      "\n",
      "Weights from Batch Gradient Descent: [0.76928028 0.25927317 0.04218178]\n",
      "\n",
      "--- Running Stochastic Gradient Descent ---\n",
      "[SGD] Epoch 1: MSE = 0.0980\n",
      "[SGD] Epoch 10: MSE = 0.0985\n",
      "[SGD] Epoch 20: MSE = 0.0985\n",
      "[SGD] Epoch 30: MSE = 0.0985\n",
      "[SGD] Epoch 40: MSE = 0.0985\n",
      "[SGD] Epoch 50: MSE = 0.0985\n",
      "[SGD] Epoch 60: MSE = 0.0985\n",
      "[SGD] Epoch 70: MSE = 0.0985\n",
      "[SGD] Epoch 80: MSE = 0.0985\n",
      "[SGD] Epoch 90: MSE = 0.0985\n",
      "[SGD] Epoch 100: MSE = 0.0985\n",
      "\n",
      "Weights from Stochastic Gradient Descent: [ 0.88709336  0.32373197 -0.03083284]\n",
      "\n",
      "--- Running Mini-Batch Gradient Descent ---\n",
      "[Mini-Batch] Epoch 1: MSE = 0.6127\n",
      "[Mini-Batch] Epoch 10: MSE = 0.1021\n",
      "[Mini-Batch] Epoch 20: MSE = 0.0975\n",
      "[Mini-Batch] Epoch 30: MSE = 0.0974\n",
      "[Mini-Batch] Epoch 40: MSE = 0.0974\n",
      "[Mini-Batch] Epoch 50: MSE = 0.0974\n",
      "[Mini-Batch] Epoch 60: MSE = 0.0974\n",
      "[Mini-Batch] Epoch 70: MSE = 0.0974\n",
      "[Mini-Batch] Epoch 80: MSE = 0.0974\n",
      "[Mini-Batch] Epoch 90: MSE = 0.0974\n",
      "[Mini-Batch] Epoch 100: MSE = 0.0974\n",
      "\n",
      "Weights from Mini-Batch Gradient Descent: [ 8.82013010e-01  3.01366063e-01 -5.52321778e-04]\n"
     ]
    }
   ],
   "source": [
    "print(\"\\n--- Running Batch Gradient Descent ---\")\n",
    "w_batch = batch_gradient_descent(x, y, learning_rate, epochs)\n",
    "print(\"\\nWeights from Batch Gradient Descent:\", w_batch)\n",
    "\n",
    "print(\"\\n--- Running Stochastic Gradient Descent ---\")\n",
    "w_sgd = stochastic_gradient_descent(x, y, learning_rate, epochs)\n",
    "print(\"\\nWeights from Stochastic Gradient Descent:\", w_sgd)\n",
    "\n",
    "print(\"\\n--- Running Mini-Batch Gradient Descent ---\")\n",
    "w_minibatch = mini_batch_gradient_descent(x, y,  learning_rate, epochs, batch_size=16)\n",
    "print(\"\\nWeights from Mini-Batch Gradient Descent:\", w_minibatch)"
   ]
  }
 ],
 "metadata": {
  "kernelspec": {
   "display_name": "Python 3",
   "language": "python",
   "name": "python3"
  },
  "language_info": {
   "codemirror_mode": {
    "name": "ipython",
    "version": 3
   },
   "file_extension": ".py",
   "mimetype": "text/x-python",
   "name": "python",
   "nbconvert_exporter": "python",
   "pygments_lexer": "ipython3",
   "version": "3.12.10"
  }
 },
 "nbformat": 4,
 "nbformat_minor": 5
}
