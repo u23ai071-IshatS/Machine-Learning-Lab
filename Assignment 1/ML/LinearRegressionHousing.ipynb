{
 "cells": [
  {
   "cell_type": "code",
   "execution_count": 1,
   "id": "housing_ml_1",
   "metadata": {},
   "outputs": [
    {
     "name": "stdout",
     "output_type": "stream",
     "text": [
      "      price  area  bedrooms  bathrooms  stories mainroad guestroom basement  \\\n",
      "0  13300000  7420         4          2        3      yes        no       no   \n",
      "1  12250000  8960         4          4        4      yes        no       no   \n",
      "2  12250000  9960         3          2        2      yes        no      yes   \n",
      "3  12215000  7500         4          2        2      yes        no      yes   \n",
      "4  11410000  7420         4          1        2      yes       yes      yes   \n",
      "\n",
      "  hotwaterheating airconditioning  parking prefarea furnishingstatus  \n",
      "0              no             yes        2      yes        furnished  \n",
      "1              no             yes        3       no        furnished  \n",
      "2              no              no        2      yes   semi-furnished  \n",
      "3              no             yes        3      yes        furnished  \n",
      "4              no             yes        2       no        furnished  \n",
      "\n",
      "Dataset shape: (545, 13)\n"
     ]
    }
   ],
   "source": [
    "import pandas as pd\n",
    "import numpy as np\n",
    "from sklearn.preprocessing import LabelEncoder, StandardScaler\n",
    "\n",
    "df = pd.read_csv(\"../Data/Housing.csv\")\n",
    "print(df.head())\n",
    "print(\"\\nDataset shape:\", df.shape)"
   ]
  },
  {
   "cell_type": "code",
   "execution_count": 2,
   "id": "housing_ml_2",
   "metadata": {},
   "outputs": [
    {
     "name": "stdout",
     "output_type": "stream",
     "text": [
      "Feature matrix shape: (545, 12)\n",
      "Target vector shape: (545,)\n"
     ]
    }
   ],
   "source": [
    "# Data preprocessing\n",
    "# Convert categorical variables to numerical\n",
    "label_encoders = {}\n",
    "categorical_cols = ['mainroad', 'guestroom', 'basement', 'hotwaterheating', 'airconditioning', 'prefarea', 'furnishingstatus']\n",
    "\n",
    "for col in categorical_cols:\n",
    "    le = LabelEncoder()\n",
    "    df[col] = le.fit_transform(df[col])\n",
    "    label_encoders[col] = le\n",
    "\n",
    "# Select features and target\n",
    "feature_cols = ['area', 'bedrooms', 'bathrooms', 'stories', 'mainroad', 'guestroom', \n",
    "                'basement', 'hotwaterheating', 'airconditioning', 'parking', 'prefarea', 'furnishingstatus']\n",
    "target_col = 'price'\n",
    "\n",
    "X = df[feature_cols].values\n",
    "y = df[target_col].values\n",
    "\n",
    "print(\"Feature matrix shape:\", X.shape)\n",
    "print(\"Target vector shape:\", y.shape)"
   ]
  },
  {
   "cell_type": "code",
   "execution_count": 3,
   "id": "housing_ml_3",
   "metadata": {},
   "outputs": [
    {
     "name": "stdout",
     "output_type": "stream",
     "text": [
      "Scaled feature matrix shape: (545, 12)\n",
      "Scaled target vector shape: (545,)\n"
     ]
    }
   ],
   "source": [
    "# Scale features and target\n",
    "scaler_X = StandardScaler()\n",
    "scaler_y = StandardScaler()\n",
    "\n",
    "X_scaled = scaler_X.fit_transform(X)\n",
    "y_scaled = scaler_y.fit_transform(y.reshape(-1, 1)).flatten()\n",
    "\n",
    "n_samples, n_features = X_scaled.shape\n",
    "X_bias = np.c_[np.ones((n_samples, 1)), X_scaled]\n",
    "\n",
    "print(\"Scaled feature matrix shape:\", X_scaled.shape)\n",
    "print(\"Scaled target vector shape:\", y_scaled.shape)"
   ]
  },
  {
   "cell_type": "code",
   "execution_count": 8,
   "id": "housing_ml_4",
   "metadata": {},
   "outputs": [],
   "source": [
    "# Set hyperparameters\n",
    "epochs = 100\n",
    "learning_rate = 0.01"
   ]
  },
  {
   "cell_type": "markdown",
   "id": "batch_gd_housing",
   "metadata": {},
   "source": [
    "## Batch Gradient Descent"
   ]
  },
  {
   "cell_type": "code",
   "execution_count": 4,
   "id": "housing_ml_5",
   "metadata": {},
   "outputs": [],
   "source": [
    "def batch_gradient_descent(x, y, lr, epochs):\n",
    "    weights = np.zeros(x.shape[1])\n",
    "    for epoch in range(epochs):\n",
    "        predictions = x @ weights\n",
    "        error = predictions - y\n",
    "        gradient = (2 / len(y)) * x.T @ error\n",
    "        weights -= lr * gradient\n",
    "\n",
    "        if (epoch + 1) % 10 == 0 or epoch == 0:\n",
    "            mse = np.mean(error ** 2)\n",
    "            print(f\"[Batch] Epoch {epoch+1}: MSE = {mse:.4f}\")\n",
    "    return weights"
   ]
  },
  {
   "cell_type": "markdown",
   "id": "sgd_housing",
   "metadata": {},
   "source": [
    "## Stochastic Gradient Descent"
   ]
  },
  {
   "cell_type": "code",
   "execution_count": 5,
   "id": "housing_ml_6",
   "metadata": {},
   "outputs": [],
   "source": [
    "def stochastic_gradient_descent(x, y, lr, epochs):\n",
    "    weights = np.zeros(x.shape[1])\n",
    "    for epoch in range(epochs):\n",
    "        for i in range(len(y)):\n",
    "            xi = x[i]\n",
    "            yi = y[i]\n",
    "            prediction = np.dot(xi, weights)\n",
    "            error = prediction - yi\n",
    "            gradient = 2 * error * xi\n",
    "            weights -= lr * gradient\n",
    "\n",
    "        if (epoch + 1) % 10 == 0 or epoch == 0:\n",
    "            predictions = x @ weights\n",
    "            mse = np.mean((predictions - y) ** 2)\n",
    "            print(f\"[SGD] Epoch {epoch+1}: MSE = {mse:.4f}\")\n",
    "    return weights"
   ]
  },
  {
   "cell_type": "markdown",
   "id": "minibatch_housing",
   "metadata": {},
   "source": [
    "## Mini-Batch Gradient Descent"
   ]
  },
  {
   "cell_type": "code",
   "execution_count": 6,
   "id": "housing_ml_7",
   "metadata": {},
   "outputs": [],
   "source": [
    "def mini_batch_gradient_descent(x, y, lr, epochs, batch_size=32):\n",
    "    weights = np.zeros(x.shape[1])\n",
    "    n = len(y)\n",
    "\n",
    "    for epoch in range(epochs):\n",
    "        indices = np.arange(n)\n",
    "        np.random.shuffle(indices)\n",
    "        x_shuffled = x[indices]\n",
    "        y_shuffled = y[indices]\n",
    "\n",
    "        for start in range(0, n, batch_size):\n",
    "            end = start + batch_size\n",
    "            xb = x_shuffled[start:end]\n",
    "            yb = y_shuffled[start:end]\n",
    "            predictions = xb @ weights\n",
    "            error = predictions - yb\n",
    "            gradient = (2 / len(yb)) * xb.T @ error\n",
    "            weights -= lr * gradient\n",
    "\n",
    "        if (epoch + 1) % 10 == 0 or epoch == 0:\n",
    "            mse = np.mean((x @ weights - y) ** 2)\n",
    "            print(f\"[Mini-Batch] Epoch {epoch+1}: MSE = {mse:.4f}\")\n",
    "    return weights"
   ]
  },
  {
   "cell_type": "code",
   "execution_count": 9,
   "id": "housing_ml_8",
   "metadata": {},
   "outputs": [
    {
     "name": "stdout",
     "output_type": "stream",
     "text": [
      "\n",
      "--- Running Batch Gradient Descent ---\n",
      "[Batch] Epoch 1: MSE = 1.0000\n",
      "[Batch] Epoch 10: MSE = 0.6064\n",
      "[Batch] Epoch 20: MSE = 0.4349\n",
      "[Batch] Epoch 30: MSE = 0.3701\n",
      "[Batch] Epoch 40: MSE = 0.3446\n",
      "[Batch] Epoch 50: MSE = 0.3339\n",
      "[Batch] Epoch 60: MSE = 0.3289\n",
      "[Batch] Epoch 70: MSE = 0.3262\n",
      "[Batch] Epoch 80: MSE = 0.3246\n",
      "[Batch] Epoch 90: MSE = 0.3235\n",
      "[Batch] Epoch 100: MSE = 0.3227\n",
      "\n",
      "Weights from Batch Gradient Descent: [ 2.73108924e-16  2.55495725e-01  8.92508415e-02  2.44797028e-01\n",
      "  1.86561045e-01  9.55799155e-02  7.69356306e-02  7.52299035e-02\n",
      "  8.15213296e-02  2.04182091e-01  1.39796268e-01  1.42284926e-01\n",
      " -9.54689351e-02]\n",
      "\n",
      "--- Running Stochastic Gradient Descent ---\n",
      "[SGD] Epoch 1: MSE = 0.9792\n",
      "[SGD] Epoch 10: MSE = 0.9913\n",
      "[SGD] Epoch 20: MSE = 0.9913\n",
      "[SGD] Epoch 30: MSE = 0.9913\n",
      "[SGD] Epoch 40: MSE = 0.9913\n",
      "[SGD] Epoch 50: MSE = 0.9913\n",
      "[SGD] Epoch 60: MSE = 0.9913\n",
      "[SGD] Epoch 70: MSE = 0.9913\n",
      "[SGD] Epoch 80: MSE = 0.9913\n",
      "[SGD] Epoch 90: MSE = 0.9913\n",
      "[SGD] Epoch 100: MSE = 0.9913\n",
      "\n",
      "Weights from Stochastic Gradient Descent: [-0.76043538  0.19809595  0.03330916  0.11510625  0.10240105  0.0569379\n",
      "  0.07696275  0.07014392  0.02787637  0.14916679  0.08201173  0.11744863\n",
      " -0.11590766]\n",
      "\n",
      "--- Running Mini-Batch Gradient Descent ---\n",
      "[Mini-Batch] Epoch 1: MSE = 0.4534\n",
      "[Mini-Batch] Epoch 10: MSE = 0.3219\n",
      "[Mini-Batch] Epoch 20: MSE = 0.3234\n",
      "[Mini-Batch] Epoch 30: MSE = 0.3216\n",
      "[Mini-Batch] Epoch 40: MSE = 0.3400\n",
      "[Mini-Batch] Epoch 50: MSE = 0.3216\n",
      "[Mini-Batch] Epoch 60: MSE = 0.3212\n",
      "[Mini-Batch] Epoch 70: MSE = 0.3205\n",
      "[Mini-Batch] Epoch 80: MSE = 0.3211\n",
      "[Mini-Batch] Epoch 90: MSE = 0.3205\n",
      "[Mini-Batch] Epoch 100: MSE = 0.3203\n",
      "\n",
      "Weights from Mini-Batch Gradient Descent: [-0.00416393  0.28221615  0.04915738  0.26952202  0.21546527  0.0757324\n",
      "  0.05816877  0.09805486  0.08587876  0.20981255  0.12201772  0.14895711\n",
      " -0.0810607 ]\n"
     ]
    }
   ],
   "source": [
    "# Run all three gradient descent methods\n",
    "print(\"\\n--- Running Batch Gradient Descent ---\")\n",
    "w_batch = batch_gradient_descent(X_bias, y_scaled, learning_rate, epochs)\n",
    "print(\"\\nWeights from Batch Gradient Descent:\", w_batch)\n",
    "\n",
    "print(\"\\n--- Running Stochastic Gradient Descent ---\")\n",
    "w_sgd = stochastic_gradient_descent(X_bias, y_scaled, learning_rate, epochs)\n",
    "print(\"\\nWeights from Stochastic Gradient Descent:\", w_sgd)\n",
    "\n",
    "print(\"\\n--- Running Mini-Batch Gradient Descent ---\")\n",
    "w_minibatch = mini_batch_gradient_descent(X_bias, y_scaled, learning_rate, epochs, batch_size=32)\n",
    "print(\"\\nWeights from Mini-Batch Gradient Descent:\", w_minibatch)"
   ]
  },
  {
   "cell_type": "code",
   "execution_count": 10,
   "id": "housing_ml_9",
   "metadata": {},
   "outputs": [
    {
     "name": "stdout",
     "output_type": "stream",
     "text": [
      "\n",
      "=== Model Comparison ===\n",
      "Feature names: ['bias', 'area', 'bedrooms', 'bathrooms', 'stories', 'mainroad', 'guestroom', 'basement', 'hotwaterheating', 'airconditioning', 'parking', 'prefarea', 'furnishingstatus']\n",
      "\n",
      "Batch GD weights:\n",
      "  bias: 0.0000\n",
      "  area: 0.2555\n",
      "  bedrooms: 0.0893\n",
      "  bathrooms: 0.2448\n",
      "  stories: 0.1866\n",
      "  mainroad: 0.0956\n",
      "  guestroom: 0.0769\n",
      "  basement: 0.0752\n",
      "  hotwaterheating: 0.0815\n",
      "  airconditioning: 0.2042\n",
      "  parking: 0.1398\n",
      "  prefarea: 0.1423\n",
      "  furnishingstatus: -0.0955\n",
      "\n",
      "SGD weights:\n",
      "  bias: -0.7604\n",
      "  area: 0.1981\n",
      "  bedrooms: 0.0333\n",
      "  bathrooms: 0.1151\n",
      "  stories: 0.1024\n",
      "  mainroad: 0.0569\n",
      "  guestroom: 0.0770\n",
      "  basement: 0.0701\n",
      "  hotwaterheating: 0.0279\n",
      "  airconditioning: 0.1492\n",
      "  parking: 0.0820\n",
      "  prefarea: 0.1174\n",
      "  furnishingstatus: -0.1159\n",
      "\n",
      "Mini-Batch GD weights:\n",
      "  bias: -0.0042\n",
      "  area: 0.2822\n",
      "  bedrooms: 0.0492\n",
      "  bathrooms: 0.2695\n",
      "  stories: 0.2155\n",
      "  mainroad: 0.0757\n",
      "  guestroom: 0.0582\n",
      "  basement: 0.0981\n",
      "  hotwaterheating: 0.0859\n",
      "  airconditioning: 0.2098\n",
      "  parking: 0.1220\n",
      "  prefarea: 0.1490\n",
      "  furnishingstatus: -0.0811\n"
     ]
    }
   ],
   "source": [
    "# Compare results and make predictions\n",
    "print(\"\\n=== Model Comparison ===\")\n",
    "print(f\"Feature names: {['bias'] + feature_cols}\")\n",
    "\n",
    "print(\"\\nBatch GD weights:\")\n",
    "for i, (name, weight) in enumerate(zip(['bias'] + feature_cols, w_batch)):\n",
    "    print(f\"  {name}: {weight:.4f}\")\n",
    "\n",
    "print(\"\\nSGD weights:\")\n",
    "for i, (name, weight) in enumerate(zip(['bias'] + feature_cols, w_sgd)):\n",
    "    print(f\"  {name}: {weight:.4f}\")\n",
    "\n",
    "print(\"\\nMini-Batch GD weights:\")\n",
    "for i, (name, weight) in enumerate(zip(['bias'] + feature_cols, w_minibatch)):\n",
    "    print(f\"  {name}: {weight:.4f}\")"
   ]
  }
 ],
 "metadata": {
  "kernelspec": {
   "display_name": "Python 3",
   "language": "python",
   "name": "python3"
  },
  "language_info": {
   "codemirror_mode": {
    "name": "ipython",
    "version": 3
   },
   "file_extension": ".py",
   "mimetype": "text/x-python",
   "name": "python",
   "nbconvert_exporter": "python",
   "pygments_lexer": "ipython3",
   "version": "3.12.10"
  }
 },
 "nbformat": 4,
 "nbformat_minor": 5
}
