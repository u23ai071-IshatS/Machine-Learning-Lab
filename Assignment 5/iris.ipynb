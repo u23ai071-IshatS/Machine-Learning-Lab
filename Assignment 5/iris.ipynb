{
 "cells": [
  {
   "cell_type": "code",
   "execution_count": 2,
   "id": "9e5fd64a",
   "metadata": {},
   "outputs": [],
   "source": [
    "import pandas as pd\n",
    "import numpy as np\n",
    "import matplotlib.pyplot as plt\n",
    "\n",
    "from sklearn.model_selection import train_test_split\n",
    "from sklearn.linear_model import LinearRegression\n",
    "from sklearn.metrics import accuracy_score\n",
    "from sklearn.preprocessing import LabelEncoder\n",
    "\n",
    "from imblearn.over_sampling import RandomOverSampler, SMOTE\n"
   ]
  },
  {
   "cell_type": "code",
   "execution_count": 11,
   "id": "27f74553",
   "metadata": {},
   "outputs": [
    {
     "name": "stdout",
     "output_type": "stream",
     "text": [
      "   SepalLengthCm  SepalWidthCm  PetalLengthCm  PetalWidthCm      Species  \\\n",
      "0            5.1           3.5            1.4           0.2  Iris-setosa   \n",
      "1            4.9           3.0            1.4           0.2  Iris-setosa   \n",
      "2            4.7           3.2            1.3           0.2  Iris-setosa   \n",
      "3            4.6           3.1            1.5           0.2  Iris-setosa   \n",
      "4            5.0           3.6            1.4           0.2  Iris-setosa   \n",
      "\n",
      "   Species_encoded  \n",
      "0                0  \n",
      "1                0  \n",
      "2                0  \n",
      "3                0  \n",
      "4                0  \n"
     ]
    },
    {
     "data": {
      "text/plain": [
       "Species_encoded\n",
       "0    50\n",
       "1    50\n",
       "2    50\n",
       "Name: count, dtype: int64"
      ]
     },
     "execution_count": 11,
     "metadata": {},
     "output_type": "execute_result"
    }
   ],
   "source": [
    "# Load your Kaggle Iris dataset\n",
    "df = pd.read_csv(\"Data/Iris.csv\")\n",
    "\n",
    "# Drop Id column (not useful for ML)\n",
    "df = df.drop(\"Id\", axis=1)\n",
    "\n",
    "# Encode species column\n",
    "encoder = LabelEncoder()\n",
    "df[\"Species_encoded\"] = encoder.fit_transform(df[\"Species\"])\n",
    "\n",
    "# Features and target\n",
    "X = df.drop([\"Species\", \"Species_encoded\"], axis=1)\n",
    "y = df[\"Species_encoded\"]\n",
    "\n",
    "print(df.head())\n",
    "df[\"Species_encoded\"].value_counts()\n"
   ]
  },
  {
   "cell_type": "code",
   "execution_count": 4,
   "id": "5b925668",
   "metadata": {},
   "outputs": [
    {
     "name": "stdout",
     "output_type": "stream",
     "text": [
      "Accuracy (80:10:10): 1.0\n"
     ]
    }
   ],
   "source": [
    "# First split: Train vs Temp (80:20)\n",
    "X_train, X_temp, y_train, y_temp = train_test_split(X, y, test_size=0.2, random_state=42)\n",
    "\n",
    "# Second split: Validation vs Test (10:10)\n",
    "X_val, X_test, y_val, y_test = train_test_split(X_temp, y_temp, test_size=0.5, random_state=42)\n",
    "\n",
    "# Train Linear Regression\n",
    "model = LinearRegression()\n",
    "model.fit(X_train, y_train)\n",
    "\n",
    "# Predict\n",
    "preds = np.round(model.predict(X_test)).astype(int)\n",
    "preds = np.clip(preds, 0, len(np.unique(y))-1)\n",
    "\n",
    "# Accuracy\n",
    "acc_80 = accuracy_score(y_test, preds)\n",
    "print(\"Accuracy (80:10:10):\", acc_80)\n"
   ]
  },
  {
   "cell_type": "code",
   "execution_count": 5,
   "id": "5621bc21",
   "metadata": {},
   "outputs": [
    {
     "name": "stdout",
     "output_type": "stream",
     "text": [
      "Accuracy (70:15:15): 1.0\n"
     ]
    }
   ],
   "source": [
    "X_train, X_temp, y_train, y_temp = train_test_split(X, y, test_size=0.3, random_state=42)\n",
    "\n",
    "X_val, X_test, y_val, y_test = train_test_split(X_temp, y_temp, test_size=0.5, random_state=42)\n",
    "\n",
    "model = LinearRegression()\n",
    "model.fit(X_train, y_train)\n",
    "\n",
    "preds = np.round(model.predict(X_test)).astype(int)\n",
    "preds = np.clip(preds, 0, len(np.unique(y))-1)\n",
    "\n",
    "# Accuracy\n",
    "acc_70 = accuracy_score(y_test, preds)\n",
    "print(\"Accuracy (70:15:15):\", acc_70)\n"
   ]
  },
  {
   "cell_type": "code",
   "execution_count": 6,
   "id": "6d5d1750",
   "metadata": {},
   "outputs": [
    {
     "name": "stdout",
     "output_type": "stream",
     "text": [
      "Accuracy after Oversampling: 0.9733333333333334\n"
     ]
    }
   ],
   "source": [
    "ros = RandomOverSampler(random_state=42)\n",
    "X_res, y_res = ros.fit_resample(X, y)\n",
    "\n",
    "model = LinearRegression()\n",
    "model.fit(X_res, y_res)\n",
    "\n",
    "preds = np.round(model.predict(X_res)).astype(int)\n",
    "preds = np.clip(preds, 0, len(np.unique(y))-1)\n",
    "\n",
    "acc_over = accuracy_score(y_res, preds)\n",
    "print(\"Accuracy after Oversampling:\", acc_over)\n"
   ]
  },
  {
   "cell_type": "code",
   "execution_count": 13,
   "id": "03978c41",
   "metadata": {},
   "outputs": [
    {
     "name": "stdout",
     "output_type": "stream",
     "text": [
      "Accuracy with SMOTE (2 neighbors): 0.9733333333333334\n"
     ]
    }
   ],
   "source": [
    "smote = SMOTE(random_state=42, k_neighbors=2)\n",
    "X_res, y_res = smote.fit_resample(X, y)\n",
    "\n",
    "model = LinearRegression()\n",
    "model.fit(X_res, y_res)\n",
    "\n",
    "preds = np.round(model.predict(X_res)).astype(int)\n",
    "preds = np.clip(preds, 0, len(np.unique(y))-1)\n",
    "\n",
    "acc_smote_a = accuracy_score(y_res, preds)\n",
    "print(\"Accuracy with SMOTE (2 neighbors):\", acc_smote_a)\n"
   ]
  },
  {
   "cell_type": "code",
   "execution_count": 8,
   "id": "45ec1222",
   "metadata": {},
   "outputs": [
    {
     "name": "stdout",
     "output_type": "stream",
     "text": [
      "Accuracy with SMOTE (nearest neighbor): 0.9733333333333334\n"
     ]
    }
   ],
   "source": [
    "smote = SMOTE(random_state=42, k_neighbors=1)\n",
    "X_res, y_res = smote.fit_resample(X, y)\n",
    "\n",
    "model = LinearRegression()\n",
    "model.fit(X_res, y_res)\n",
    "\n",
    "preds = np.round(model.predict(X_res)).astype(int)\n",
    "preds = np.clip(preds, 0, len(np.unique(y))-1)\n",
    "\n",
    "acc_smote_b = accuracy_score(y_res, preds)\n",
    "print(\"Accuracy with SMOTE (nearest neighbor):\", acc_smote_b)\n"
   ]
  },
  {
   "cell_type": "code",
   "execution_count": 9,
   "id": "614b0619",
   "metadata": {},
   "outputs": [
    {
     "name": "stdout",
     "output_type": "stream",
     "text": [
      "Linear Regression (80:10:10): 1.0000\n",
      "Linear Regression (70:15:15): 1.0000\n",
      "Oversampling: 0.9733\n",
      "SMOTE (2 neighbors): 0.9733\n",
      "SMOTE (nearest neighbor): 0.9733\n"
     ]
    },
    {
     "data": {
      "image/png": "[encoded data removed]",
      "text/plain": [
       "<Figure size 800x500 with 1 Axes>"
      ]
     },
     "metadata": {},
     "output_type": "display_data"
    }
   ],
   "source": [
    "results = {\n",
    "    \"Linear Regression (80:10:10)\": acc_80,\n",
    "    \"Linear Regression (70:15:15)\": acc_70,\n",
    "    \"Oversampling\": acc_over,\n",
    "    \"SMOTE (2 neighbors)\": acc_smote_a,\n",
    "    \"SMOTE (nearest neighbor)\": acc_smote_b\n",
    "}\n",
    "\n",
    "for method, acc in results.items():\n",
    "    print(f\"{method}: {acc:.4f}\")\n",
    "\n",
    "# Bar plot\n",
    "plt.figure(figsize=(8,5))\n",
    "plt.bar(results.keys(), results.values(), color=\"skyblue\")\n",
    "plt.xticks(rotation=45, ha=\"right\")\n",
    "plt.ylabel(\"Accuracy\")\n",
    "plt.title(\"Comparison of Methods on Iris Dataset\")\n",
    "plt.show()\n"
   ]
  }
 ],
 "metadata": {
  "kernelspec": {
   "display_name": "Python 3",
   "language": "python",
   "name": "python3"
  },
  "language_info": {
   "codemirror_mode": {
    "name": "ipython",
    "version": 3
   },
   "file_extension": ".py",
   "mimetype": "text/x-python",
   "name": "python",
   "nbconvert_exporter": "python",
   "pygments_lexer": "ipython3",
   "version": "3.12.10"
  }
 },
 "nbformat": 4,
 "nbformat_minor": 5
}
